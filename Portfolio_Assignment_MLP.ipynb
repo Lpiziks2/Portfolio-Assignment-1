{
  "nbformat": 4,
  "nbformat_minor": 0,
  "metadata": {
    "colab": {
      "provenance": []
    },
    "kernelspec": {
      "name": "python3",
      "display_name": "Python 3"
    },
    "language_info": {
      "name": "python"
    }
  },
  "cells": [
    {
      "cell_type": "markdown",
      "source": [
        "# Section 1: Data Preprocessing & Feature Engineering\n",
        "\n",
        "In this section, we begin by importing libraries, setting display options, and mounting Google Drive to load our dataset. We then inspect the DataFrame's dimensions and preview its contents. Next, we analyze missing values across columns and decide to drop features with excessive missing data. For remaining missing values, numerical features are imputed using the median (with LotFrontage imputed by neighborhood median) and categorical features are filled with 'None' or the mode. Additionally, we create binary indicators to flag missing garage and basement information. The target variable, SalePrice, is explored using histograms and then log-transformed to normalize its distribution. New features such as HouseAge and TotalSF are engineered, and categorical features like Street, Utilities, and CentralAir are converted to binary format. Finally, a correlation analysis helps us identify and drop features with low relevance to the target variable."
      ],
      "metadata": {
        "id": "tkpiEbVeZUu9"
      }
    },
    {
      "cell_type": "code",
      "execution_count": 356,
      "metadata": {
        "id": "i8_yJ9Z3K_t0",
        "colab": {
          "base_uri": "https://localhost:8080/"
        },
        "outputId": "579c8e3c-5787-4310-d125-677b94db12c0"
      },
      "outputs": [
        {
          "output_type": "stream",
          "name": "stdout",
          "text": [
            "Drive already mounted at /content/drive; to attempt to forcibly remount, call drive.mount(\"/content/drive\", force_remount=True).\n"
          ]
        }
      ],
      "source": [
        "import pandas as pd\n",
        "\n",
        "# Set display options to show all rows\n",
        "pd.set_option('display.max_rows', None)\n",
        "\n",
        "from google.colab import drive\n",
        "drive.mount('/content/drive')\n",
        "\n",
        "\n",
        "# Path to CSV files\n",
        "train_df = pd.read_csv('/content/drive/My Drive/Files/train.csv')"
      ]
    },
    {
      "cell_type": "code",
      "source": [
        "train_df.shape"
      ],
      "metadata": {
        "colab": {
          "base_uri": "https://localhost:8080/"
        },
        "id": "6Z-5S1IUZtNJ",
        "outputId": "4dc6c6c1-0475-4c62-9d17-0c60cf28ca37"
      },
      "execution_count": 357,
      "outputs": [
        {
          "output_type": "execute_result",
          "data": {
            "text/plain": [
              "(1460, 81)"
            ]
          },
          "metadata": {},
          "execution_count": 357
        }
      ]
    },
    {
      "cell_type": "code",
      "source": [
        "# Show the head of the df\n",
        "\n",
        "train_df.head()"
      ],
      "metadata": {
        "colab": {
          "base_uri": "https://localhost:8080/",
          "height": 226
        },
        "id": "QGFY8zQVZyxa",
        "outputId": "2ea9111c-297b-4992-a9c3-dddb929604fc"
      },
      "execution_count": 358,
      "outputs": [
        {
          "output_type": "execute_result",
          "data": {
            "text/plain": [
              "   Id  MSSubClass MSZoning  LotFrontage  LotArea Street Alley LotShape  \\\n",
              "0   1          60       RL         65.0     8450   Pave   NaN      Reg   \n",
              "1   2          20       RL         80.0     9600   Pave   NaN      Reg   \n",
              "2   3          60       RL         68.0    11250   Pave   NaN      IR1   \n",
              "3   4          70       RL         60.0     9550   Pave   NaN      IR1   \n",
              "4   5          60       RL         84.0    14260   Pave   NaN      IR1   \n",
              "\n",
              "  LandContour Utilities LotConfig LandSlope Neighborhood Condition1  \\\n",
              "0         Lvl    AllPub    Inside       Gtl      CollgCr       Norm   \n",
              "1         Lvl    AllPub       FR2       Gtl      Veenker      Feedr   \n",
              "2         Lvl    AllPub    Inside       Gtl      CollgCr       Norm   \n",
              "3         Lvl    AllPub    Corner       Gtl      Crawfor       Norm   \n",
              "4         Lvl    AllPub       FR2       Gtl      NoRidge       Norm   \n",
              "\n",
              "  Condition2 BldgType HouseStyle  OverallQual  OverallCond  YearBuilt  \\\n",
              "0       Norm     1Fam     2Story            7            5       2003   \n",
              "1       Norm     1Fam     1Story            6            8       1976   \n",
              "2       Norm     1Fam     2Story            7            5       2001   \n",
              "3       Norm     1Fam     2Story            7            5       1915   \n",
              "4       Norm     1Fam     2Story            8            5       2000   \n",
              "\n",
              "   YearRemodAdd RoofStyle RoofMatl Exterior1st Exterior2nd MasVnrType  \\\n",
              "0          2003     Gable  CompShg     VinylSd     VinylSd    BrkFace   \n",
              "1          1976     Gable  CompShg     MetalSd     MetalSd        NaN   \n",
              "2          2002     Gable  CompShg     VinylSd     VinylSd    BrkFace   \n",
              "3          1970     Gable  CompShg     Wd Sdng     Wd Shng        NaN   \n",
              "4          2000     Gable  CompShg     VinylSd     VinylSd    BrkFace   \n",
              "\n",
              "   MasVnrArea ExterQual ExterCond Foundation BsmtQual BsmtCond BsmtExposure  \\\n",
              "0       196.0        Gd        TA      PConc       Gd       TA           No   \n",
              "1         0.0        TA        TA     CBlock       Gd       TA           Gd   \n",
              "2       162.0        Gd        TA      PConc       Gd       TA           Mn   \n",
              "3         0.0        TA        TA     BrkTil       TA       Gd           No   \n",
              "4       350.0        Gd        TA      PConc       Gd       TA           Av   \n",
              "\n",
              "  BsmtFinType1  BsmtFinSF1 BsmtFinType2  BsmtFinSF2  BsmtUnfSF  TotalBsmtSF  \\\n",
              "0          GLQ         706          Unf           0        150          856   \n",
              "1          ALQ         978          Unf           0        284         1262   \n",
              "2          GLQ         486          Unf           0        434          920   \n",
              "3          ALQ         216          Unf           0        540          756   \n",
              "4          GLQ         655          Unf           0        490         1145   \n",
              "\n",
              "  Heating HeatingQC CentralAir Electrical  1stFlrSF  2ndFlrSF  LowQualFinSF  \\\n",
              "0    GasA        Ex          Y      SBrkr       856       854             0   \n",
              "1    GasA        Ex          Y      SBrkr      1262         0             0   \n",
              "2    GasA        Ex          Y      SBrkr       920       866             0   \n",
              "3    GasA        Gd          Y      SBrkr       961       756             0   \n",
              "4    GasA        Ex          Y      SBrkr      1145      1053             0   \n",
              "\n",
              "   GrLivArea  BsmtFullBath  BsmtHalfBath  FullBath  HalfBath  BedroomAbvGr  \\\n",
              "0       1710             1             0         2         1             3   \n",
              "1       1262             0             1         2         0             3   \n",
              "2       1786             1             0         2         1             3   \n",
              "3       1717             1             0         1         0             3   \n",
              "4       2198             1             0         2         1             4   \n",
              "\n",
              "   KitchenAbvGr KitchenQual  TotRmsAbvGrd Functional  Fireplaces FireplaceQu  \\\n",
              "0             1          Gd             8        Typ           0         NaN   \n",
              "1             1          TA             6        Typ           1          TA   \n",
              "2             1          Gd             6        Typ           1          TA   \n",
              "3             1          Gd             7        Typ           1          Gd   \n",
              "4             1          Gd             9        Typ           1          TA   \n",
              "\n",
              "  GarageType  GarageYrBlt GarageFinish  GarageCars  GarageArea GarageQual  \\\n",
              "0     Attchd       2003.0          RFn           2         548         TA   \n",
              "1     Attchd       1976.0          RFn           2         460         TA   \n",
              "2     Attchd       2001.0          RFn           2         608         TA   \n",
              "3     Detchd       1998.0          Unf           3         642         TA   \n",
              "4     Attchd       2000.0          RFn           3         836         TA   \n",
              "\n",
              "  GarageCond PavedDrive  WoodDeckSF  OpenPorchSF  EnclosedPorch  3SsnPorch  \\\n",
              "0         TA          Y           0           61              0          0   \n",
              "1         TA          Y         298            0              0          0   \n",
              "2         TA          Y           0           42              0          0   \n",
              "3         TA          Y           0           35            272          0   \n",
              "4         TA          Y         192           84              0          0   \n",
              "\n",
              "   ScreenPorch  PoolArea PoolQC Fence MiscFeature  MiscVal  MoSold  YrSold  \\\n",
              "0            0         0    NaN   NaN         NaN        0       2    2008   \n",
              "1            0         0    NaN   NaN         NaN        0       5    2007   \n",
              "2            0         0    NaN   NaN         NaN        0       9    2008   \n",
              "3            0         0    NaN   NaN         NaN        0       2    2006   \n",
              "4            0         0    NaN   NaN         NaN        0      12    2008   \n",
              "\n",
              "  SaleType SaleCondition  SalePrice  \n",
              "0       WD        Normal     208500  \n",
              "1       WD        Normal     181500  \n",
              "2       WD        Normal     223500  \n",
              "3       WD       Abnorml     140000  \n",
              "4       WD        Normal     250000  "
            ],
            "text/html": [
              "\n",
              "  <div id=\"df-991b1d33-b6d6-402c-b7e4-f13229fb57e4\" class=\"colab-df-container\">\n",
              "    <div>\n",
              "<style scoped>\n",
              "    .dataframe tbody tr th:only-of-type {\n",
              "        vertical-align: middle;\n",
              "    }\n",
              "\n",
              "    .dataframe tbody tr th {\n",
              "        vertical-align: top;\n",
              "    }\n",
              "\n",
              "    .dataframe thead th {\n",
              "        text-align: right;\n",
              "    }\n",
              "</style>\n",
              "<table border=\"1\" class=\"dataframe\">\n",
              "  <thead>\n",
              "    <tr style=\"text-align: right;\">\n",
              "      <th></th>\n",
              "      <th>Id</th>\n",
              "      <th>MSSubClass</th>\n",
              "      <th>MSZoning</th>\n",
              "      <th>LotFrontage</th>\n",
              "      <th>LotArea</th>\n",
              "      <th>Street</th>\n",
              "      <th>Alley</th>\n",
              "      <th>LotShape</th>\n",
              "      <th>LandContour</th>\n",
              "      <th>Utilities</th>\n",
              "      <th>LotConfig</th>\n",
              "      <th>LandSlope</th>\n",
              "      <th>Neighborhood</th>\n",
              "      <th>Condition1</th>\n",
              "      <th>Condition2</th>\n",
              "      <th>BldgType</th>\n",
              "      <th>HouseStyle</th>\n",
              "      <th>OverallQual</th>\n",
              "      <th>OverallCond</th>\n",
              "      <th>YearBuilt</th>\n",
              "      <th>YearRemodAdd</th>\n",
              "      <th>RoofStyle</th>\n",
              "      <th>RoofMatl</th>\n",
              "      <th>Exterior1st</th>\n",
              "      <th>Exterior2nd</th>\n",
              "      <th>MasVnrType</th>\n",
              "      <th>MasVnrArea</th>\n",
              "      <th>ExterQual</th>\n",
              "      <th>ExterCond</th>\n",
              "      <th>Foundation</th>\n",
              "      <th>BsmtQual</th>\n",
              "      <th>BsmtCond</th>\n",
              "      <th>BsmtExposure</th>\n",
              "      <th>BsmtFinType1</th>\n",
              "      <th>BsmtFinSF1</th>\n",
              "      <th>BsmtFinType2</th>\n",
              "      <th>BsmtFinSF2</th>\n",
              "      <th>BsmtUnfSF</th>\n",
              "      <th>TotalBsmtSF</th>\n",
              "      <th>Heating</th>\n",
              "      <th>HeatingQC</th>\n",
              "      <th>CentralAir</th>\n",
              "      <th>Electrical</th>\n",
              "      <th>1stFlrSF</th>\n",
              "      <th>2ndFlrSF</th>\n",
              "      <th>LowQualFinSF</th>\n",
              "      <th>GrLivArea</th>\n",
              "      <th>BsmtFullBath</th>\n",
              "      <th>BsmtHalfBath</th>\n",
              "      <th>FullBath</th>\n",
              "      <th>HalfBath</th>\n",
              "      <th>BedroomAbvGr</th>\n",
              "      <th>KitchenAbvGr</th>\n",
              "      <th>KitchenQual</th>\n",
              "      <th>TotRmsAbvGrd</th>\n",
              "      <th>Functional</th>\n",
              "      <th>Fireplaces</th>\n",
              "      <th>FireplaceQu</th>\n",
              "      <th>GarageType</th>\n",
              "      <th>GarageYrBlt</th>\n",
              "      <th>GarageFinish</th>\n",
              "      <th>GarageCars</th>\n",
              "      <th>GarageArea</th>\n",
              "      <th>GarageQual</th>\n",
              "      <th>GarageCond</th>\n",
              "      <th>PavedDrive</th>\n",
              "      <th>WoodDeckSF</th>\n",
              "      <th>OpenPorchSF</th>\n",
              "      <th>EnclosedPorch</th>\n",
              "      <th>3SsnPorch</th>\n",
              "      <th>ScreenPorch</th>\n",
              "      <th>PoolArea</th>\n",
              "      <th>PoolQC</th>\n",
              "      <th>Fence</th>\n",
              "      <th>MiscFeature</th>\n",
              "      <th>MiscVal</th>\n",
              "      <th>MoSold</th>\n",
              "      <th>YrSold</th>\n",
              "      <th>SaleType</th>\n",
              "      <th>SaleCondition</th>\n",
              "      <th>SalePrice</th>\n",
              "    </tr>\n",
              "  </thead>\n",
              "  <tbody>\n",
              "    <tr>\n",
              "      <th>0</th>\n",
              "      <td>1</td>\n",
              "      <td>60</td>\n",
              "      <td>RL</td>\n",
              "      <td>65.0</td>\n",
              "      <td>8450</td>\n",
              "      <td>Pave</td>\n",
              "      <td>NaN</td>\n",
              "      <td>Reg</td>\n",
              "      <td>Lvl</td>\n",
              "      <td>AllPub</td>\n",
              "      <td>Inside</td>\n",
              "      <td>Gtl</td>\n",
              "      <td>CollgCr</td>\n",
              "      <td>Norm</td>\n",
              "      <td>Norm</td>\n",
              "      <td>1Fam</td>\n",
              "      <td>2Story</td>\n",
              "      <td>7</td>\n",
              "      <td>5</td>\n",
              "      <td>2003</td>\n",
              "      <td>2003</td>\n",
              "      <td>Gable</td>\n",
              "      <td>CompShg</td>\n",
              "      <td>VinylSd</td>\n",
              "      <td>VinylSd</td>\n",
              "      <td>BrkFace</td>\n",
              "      <td>196.0</td>\n",
              "      <td>Gd</td>\n",
              "      <td>TA</td>\n",
              "      <td>PConc</td>\n",
              "      <td>Gd</td>\n",
              "      <td>TA</td>\n",
              "      <td>No</td>\n",
              "      <td>GLQ</td>\n",
              "      <td>706</td>\n",
              "      <td>Unf</td>\n",
              "      <td>0</td>\n",
              "      <td>150</td>\n",
              "      <td>856</td>\n",
              "      <td>GasA</td>\n",
              "      <td>Ex</td>\n",
              "      <td>Y</td>\n",
              "      <td>SBrkr</td>\n",
              "      <td>856</td>\n",
              "      <td>854</td>\n",
              "      <td>0</td>\n",
              "      <td>1710</td>\n",
              "      <td>1</td>\n",
              "      <td>0</td>\n",
              "      <td>2</td>\n",
              "      <td>1</td>\n",
              "      <td>3</td>\n",
              "      <td>1</td>\n",
              "      <td>Gd</td>\n",
              "      <td>8</td>\n",
              "      <td>Typ</td>\n",
              "      <td>0</td>\n",
              "      <td>NaN</td>\n",
              "      <td>Attchd</td>\n",
              "      <td>2003.0</td>\n",
              "      <td>RFn</td>\n",
              "      <td>2</td>\n",
              "      <td>548</td>\n",
              "      <td>TA</td>\n",
              "      <td>TA</td>\n",
              "      <td>Y</td>\n",
              "      <td>0</td>\n",
              "      <td>61</td>\n",
              "      <td>0</td>\n",
              "      <td>0</td>\n",
              "      <td>0</td>\n",
              "      <td>0</td>\n",
              "      <td>NaN</td>\n",
              "      <td>NaN</td>\n",
              "      <td>NaN</td>\n",
              "      <td>0</td>\n",
              "      <td>2</td>\n",
              "      <td>2008</td>\n",
              "      <td>WD</td>\n",
              "      <td>Normal</td>\n",
              "      <td>208500</td>\n",
              "    </tr>\n",
              "    <tr>\n",
              "      <th>1</th>\n",
              "      <td>2</td>\n",
              "      <td>20</td>\n",
              "      <td>RL</td>\n",
              "      <td>80.0</td>\n",
              "      <td>9600</td>\n",
              "      <td>Pave</td>\n",
              "      <td>NaN</td>\n",
              "      <td>Reg</td>\n",
              "      <td>Lvl</td>\n",
              "      <td>AllPub</td>\n",
              "      <td>FR2</td>\n",
              "      <td>Gtl</td>\n",
              "      <td>Veenker</td>\n",
              "      <td>Feedr</td>\n",
              "      <td>Norm</td>\n",
              "      <td>1Fam</td>\n",
              "      <td>1Story</td>\n",
              "      <td>6</td>\n",
              "      <td>8</td>\n",
              "      <td>1976</td>\n",
              "      <td>1976</td>\n",
              "      <td>Gable</td>\n",
              "      <td>CompShg</td>\n",
              "      <td>MetalSd</td>\n",
              "      <td>MetalSd</td>\n",
              "      <td>NaN</td>\n",
              "      <td>0.0</td>\n",
              "      <td>TA</td>\n",
              "      <td>TA</td>\n",
              "      <td>CBlock</td>\n",
              "      <td>Gd</td>\n",
              "      <td>TA</td>\n",
              "      <td>Gd</td>\n",
              "      <td>ALQ</td>\n",
              "      <td>978</td>\n",
              "      <td>Unf</td>\n",
              "      <td>0</td>\n",
              "      <td>284</td>\n",
              "      <td>1262</td>\n",
              "      <td>GasA</td>\n",
              "      <td>Ex</td>\n",
              "      <td>Y</td>\n",
              "      <td>SBrkr</td>\n",
              "      <td>1262</td>\n",
              "      <td>0</td>\n",
              "      <td>0</td>\n",
              "      <td>1262</td>\n",
              "      <td>0</td>\n",
              "      <td>1</td>\n",
              "      <td>2</td>\n",
              "      <td>0</td>\n",
              "      <td>3</td>\n",
              "      <td>1</td>\n",
              "      <td>TA</td>\n",
              "      <td>6</td>\n",
              "      <td>Typ</td>\n",
              "      <td>1</td>\n",
              "      <td>TA</td>\n",
              "      <td>Attchd</td>\n",
              "      <td>1976.0</td>\n",
              "      <td>RFn</td>\n",
              "      <td>2</td>\n",
              "      <td>460</td>\n",
              "      <td>TA</td>\n",
              "      <td>TA</td>\n",
              "      <td>Y</td>\n",
              "      <td>298</td>\n",
              "      <td>0</td>\n",
              "      <td>0</td>\n",
              "      <td>0</td>\n",
              "      <td>0</td>\n",
              "      <td>0</td>\n",
              "      <td>NaN</td>\n",
              "      <td>NaN</td>\n",
              "      <td>NaN</td>\n",
              "      <td>0</td>\n",
              "      <td>5</td>\n",
              "      <td>2007</td>\n",
              "      <td>WD</td>\n",
              "      <td>Normal</td>\n",
              "      <td>181500</td>\n",
              "    </tr>\n",
              "    <tr>\n",
              "      <th>2</th>\n",
              "      <td>3</td>\n",
              "      <td>60</td>\n",
              "      <td>RL</td>\n",
              "      <td>68.0</td>\n",
              "      <td>11250</td>\n",
              "      <td>Pave</td>\n",
              "      <td>NaN</td>\n",
              "      <td>IR1</td>\n",
              "      <td>Lvl</td>\n",
              "      <td>AllPub</td>\n",
              "      <td>Inside</td>\n",
              "      <td>Gtl</td>\n",
              "      <td>CollgCr</td>\n",
              "      <td>Norm</td>\n",
              "      <td>Norm</td>\n",
              "      <td>1Fam</td>\n",
              "      <td>2Story</td>\n",
              "      <td>7</td>\n",
              "      <td>5</td>\n",
              "      <td>2001</td>\n",
              "      <td>2002</td>\n",
              "      <td>Gable</td>\n",
              "      <td>CompShg</td>\n",
              "      <td>VinylSd</td>\n",
              "      <td>VinylSd</td>\n",
              "      <td>BrkFace</td>\n",
              "      <td>162.0</td>\n",
              "      <td>Gd</td>\n",
              "      <td>TA</td>\n",
              "      <td>PConc</td>\n",
              "      <td>Gd</td>\n",
              "      <td>TA</td>\n",
              "      <td>Mn</td>\n",
              "      <td>GLQ</td>\n",
              "      <td>486</td>\n",
              "      <td>Unf</td>\n",
              "      <td>0</td>\n",
              "      <td>434</td>\n",
              "      <td>920</td>\n",
              "      <td>GasA</td>\n",
              "      <td>Ex</td>\n",
              "      <td>Y</td>\n",
              "      <td>SBrkr</td>\n",
              "      <td>920</td>\n",
              "      <td>866</td>\n",
              "      <td>0</td>\n",
              "      <td>1786</td>\n",
              "      <td>1</td>\n",
              "      <td>0</td>\n",
              "      <td>2</td>\n",
              "      <td>1</td>\n",
              "      <td>3</td>\n",
              "      <td>1</td>\n",
              "      <td>Gd</td>\n",
              "      <td>6</td>\n",
              "      <td>Typ</td>\n",
              "      <td>1</td>\n",
              "      <td>TA</td>\n",
              "      <td>Attchd</td>\n",
              "      <td>2001.0</td>\n",
              "      <td>RFn</td>\n",
              "      <td>2</td>\n",
              "      <td>608</td>\n",
              "      <td>TA</td>\n",
              "      <td>TA</td>\n",
              "      <td>Y</td>\n",
              "      <td>0</td>\n",
              "      <td>42</td>\n",
              "      <td>0</td>\n",
              "      <td>0</td>\n",
              "      <td>0</td>\n",
              "      <td>0</td>\n",
              "      <td>NaN</td>\n",
              "      <td>NaN</td>\n",
              "      <td>NaN</td>\n",
              "      <td>0</td>\n",
              "      <td>9</td>\n",
              "      <td>2008</td>\n",
              "      <td>WD</td>\n",
              "      <td>Normal</td>\n",
              "      <td>223500</td>\n",
              "    </tr>\n",
              "    <tr>\n",
              "      <th>3</th>\n",
              "      <td>4</td>\n",
              "      <td>70</td>\n",
              "      <td>RL</td>\n",
              "      <td>60.0</td>\n",
              "      <td>9550</td>\n",
              "      <td>Pave</td>\n",
              "      <td>NaN</td>\n",
              "      <td>IR1</td>\n",
              "      <td>Lvl</td>\n",
              "      <td>AllPub</td>\n",
              "      <td>Corner</td>\n",
              "      <td>Gtl</td>\n",
              "      <td>Crawfor</td>\n",
              "      <td>Norm</td>\n",
              "      <td>Norm</td>\n",
              "      <td>1Fam</td>\n",
              "      <td>2Story</td>\n",
              "      <td>7</td>\n",
              "      <td>5</td>\n",
              "      <td>1915</td>\n",
              "      <td>1970</td>\n",
              "      <td>Gable</td>\n",
              "      <td>CompShg</td>\n",
              "      <td>Wd Sdng</td>\n",
              "      <td>Wd Shng</td>\n",
              "      <td>NaN</td>\n",
              "      <td>0.0</td>\n",
              "      <td>TA</td>\n",
              "      <td>TA</td>\n",
              "      <td>BrkTil</td>\n",
              "      <td>TA</td>\n",
              "      <td>Gd</td>\n",
              "      <td>No</td>\n",
              "      <td>ALQ</td>\n",
              "      <td>216</td>\n",
              "      <td>Unf</td>\n",
              "      <td>0</td>\n",
              "      <td>540</td>\n",
              "      <td>756</td>\n",
              "      <td>GasA</td>\n",
              "      <td>Gd</td>\n",
              "      <td>Y</td>\n",
              "      <td>SBrkr</td>\n",
              "      <td>961</td>\n",
              "      <td>756</td>\n",
              "      <td>0</td>\n",
              "      <td>1717</td>\n",
              "      <td>1</td>\n",
              "      <td>0</td>\n",
              "      <td>1</td>\n",
              "      <td>0</td>\n",
              "      <td>3</td>\n",
              "      <td>1</td>\n",
              "      <td>Gd</td>\n",
              "      <td>7</td>\n",
              "      <td>Typ</td>\n",
              "      <td>1</td>\n",
              "      <td>Gd</td>\n",
              "      <td>Detchd</td>\n",
              "      <td>1998.0</td>\n",
              "      <td>Unf</td>\n",
              "      <td>3</td>\n",
              "      <td>642</td>\n",
              "      <td>TA</td>\n",
              "      <td>TA</td>\n",
              "      <td>Y</td>\n",
              "      <td>0</td>\n",
              "      <td>35</td>\n",
              "      <td>272</td>\n",
              "      <td>0</td>\n",
              "      <td>0</td>\n",
              "      <td>0</td>\n",
              "      <td>NaN</td>\n",
              "      <td>NaN</td>\n",
              "      <td>NaN</td>\n",
              "      <td>0</td>\n",
              "      <td>2</td>\n",
              "      <td>2006</td>\n",
              "      <td>WD</td>\n",
              "      <td>Abnorml</td>\n",
              "      <td>140000</td>\n",
              "    </tr>\n",
              "    <tr>\n",
              "      <th>4</th>\n",
              "      <td>5</td>\n",
              "      <td>60</td>\n",
              "      <td>RL</td>\n",
              "      <td>84.0</td>\n",
              "      <td>14260</td>\n",
              "      <td>Pave</td>\n",
              "      <td>NaN</td>\n",
              "      <td>IR1</td>\n",
              "      <td>Lvl</td>\n",
              "      <td>AllPub</td>\n",
              "      <td>FR2</td>\n",
              "      <td>Gtl</td>\n",
              "      <td>NoRidge</td>\n",
              "      <td>Norm</td>\n",
              "      <td>Norm</td>\n",
              "      <td>1Fam</td>\n",
              "      <td>2Story</td>\n",
              "      <td>8</td>\n",
              "      <td>5</td>\n",
              "      <td>2000</td>\n",
              "      <td>2000</td>\n",
              "      <td>Gable</td>\n",
              "      <td>CompShg</td>\n",
              "      <td>VinylSd</td>\n",
              "      <td>VinylSd</td>\n",
              "      <td>BrkFace</td>\n",
              "      <td>350.0</td>\n",
              "      <td>Gd</td>\n",
              "      <td>TA</td>\n",
              "      <td>PConc</td>\n",
              "      <td>Gd</td>\n",
              "      <td>TA</td>\n",
              "      <td>Av</td>\n",
              "      <td>GLQ</td>\n",
              "      <td>655</td>\n",
              "      <td>Unf</td>\n",
              "      <td>0</td>\n",
              "      <td>490</td>\n",
              "      <td>1145</td>\n",
              "      <td>GasA</td>\n",
              "      <td>Ex</td>\n",
              "      <td>Y</td>\n",
              "      <td>SBrkr</td>\n",
              "      <td>1145</td>\n",
              "      <td>1053</td>\n",
              "      <td>0</td>\n",
              "      <td>2198</td>\n",
              "      <td>1</td>\n",
              "      <td>0</td>\n",
              "      <td>2</td>\n",
              "      <td>1</td>\n",
              "      <td>4</td>\n",
              "      <td>1</td>\n",
              "      <td>Gd</td>\n",
              "      <td>9</td>\n",
              "      <td>Typ</td>\n",
              "      <td>1</td>\n",
              "      <td>TA</td>\n",
              "      <td>Attchd</td>\n",
              "      <td>2000.0</td>\n",
              "      <td>RFn</td>\n",
              "      <td>3</td>\n",
              "      <td>836</td>\n",
              "      <td>TA</td>\n",
              "      <td>TA</td>\n",
              "      <td>Y</td>\n",
              "      <td>192</td>\n",
              "      <td>84</td>\n",
              "      <td>0</td>\n",
              "      <td>0</td>\n",
              "      <td>0</td>\n",
              "      <td>0</td>\n",
              "      <td>NaN</td>\n",
              "      <td>NaN</td>\n",
              "      <td>NaN</td>\n",
              "      <td>0</td>\n",
              "      <td>12</td>\n",
              "      <td>2008</td>\n",
              "      <td>WD</td>\n",
              "      <td>Normal</td>\n",
              "      <td>250000</td>\n",
              "    </tr>\n",
              "  </tbody>\n",
              "</table>\n",
              "</div>\n",
              "    <div class=\"colab-df-buttons\">\n",
              "\n",
              "  <div class=\"colab-df-container\">\n",
              "    <button class=\"colab-df-convert\" onclick=\"convertToInteractive('df-991b1d33-b6d6-402c-b7e4-f13229fb57e4')\"\n",
              "            title=\"Convert this dataframe to an interactive table.\"\n",
              "            style=\"display:none;\">\n",
              "\n",
              "  <svg xmlns=\"http://www.w3.org/2000/svg\" height=\"24px\" viewBox=\"0 -960 960 960\">\n",
              "    <path d=\"M120-120v-720h720v720H120Zm60-500h600v-160H180v160Zm220 220h160v-160H400v160Zm0 220h160v-160H400v160ZM180-400h160v-160H180v160Zm440 0h160v-160H620v160ZM180-180h160v-160H180v160Zm440 0h160v-160H620v160Z\"/>\n",
              "  </svg>\n",
              "    </button>\n",
              "\n",
              "  <style>\n",
              "    .colab-df-container {\n",
              "      display:flex;\n",
              "      gap: 12px;\n",
              "    }\n",
              "\n",
              "    .colab-df-convert {\n",
              "      background-color: #E8F0FE;\n",
              "      border: none;\n",
              "      border-radius: 50%;\n",
              "      cursor: pointer;\n",
              "      display: none;\n",
              "      fill: #1967D2;\n",
              "      height: 32px;\n",
              "      padding: 0 0 0 0;\n",
              "      width: 32px;\n",
              "    }\n",
              "\n",
              "    .colab-df-convert:hover {\n",
              "      background-color: #E2EBFA;\n",
              "      box-shadow: 0px 1px 2px rgba(60, 64, 67, 0.3), 0px 1px 3px 1px rgba(60, 64, 67, 0.15);\n",
              "      fill: #174EA6;\n",
              "    }\n",
              "\n",
              "    .colab-df-buttons div {\n",
              "      margin-bottom: 4px;\n",
              "    }\n",
              "\n",
              "    [theme=dark] .colab-df-convert {\n",
              "      background-color: #3B4455;\n",
              "      fill: #D2E3FC;\n",
              "    }\n",
              "\n",
              "    [theme=dark] .colab-df-convert:hover {\n",
              "      background-color: #434B5C;\n",
              "      box-shadow: 0px 1px 3px 1px rgba(0, 0, 0, 0.15);\n",
              "      filter: drop-shadow(0px 1px 2px rgba(0, 0, 0, 0.3));\n",
              "      fill: #FFFFFF;\n",
              "    }\n",
              "  </style>\n",
              "\n",
              "    <script>\n",
              "      const buttonEl =\n",
              "        document.querySelector('#df-991b1d33-b6d6-402c-b7e4-f13229fb57e4 button.colab-df-convert');\n",
              "      buttonEl.style.display =\n",
              "        google.colab.kernel.accessAllowed ? 'block' : 'none';\n",
              "\n",
              "      async function convertToInteractive(key) {\n",
              "        const element = document.querySelector('#df-991b1d33-b6d6-402c-b7e4-f13229fb57e4');\n",
              "        const dataTable =\n",
              "          await google.colab.kernel.invokeFunction('convertToInteractive',\n",
              "                                                    [key], {});\n",
              "        if (!dataTable) return;\n",
              "\n",
              "        const docLinkHtml = 'Like what you see? Visit the ' +\n",
              "          '<a target=\"_blank\" href=https://colab.research.google.com/notebooks/data_table.ipynb>data table notebook</a>'\n",
              "          + ' to learn more about interactive tables.';\n",
              "        element.innerHTML = '';\n",
              "        dataTable['output_type'] = 'display_data';\n",
              "        await google.colab.output.renderOutput(dataTable, element);\n",
              "        const docLink = document.createElement('div');\n",
              "        docLink.innerHTML = docLinkHtml;\n",
              "        element.appendChild(docLink);\n",
              "      }\n",
              "    </script>\n",
              "  </div>\n",
              "\n",
              "\n",
              "<div id=\"df-b24a32bf-5c14-41ff-b987-85c868704d6e\">\n",
              "  <button class=\"colab-df-quickchart\" onclick=\"quickchart('df-b24a32bf-5c14-41ff-b987-85c868704d6e')\"\n",
              "            title=\"Suggest charts\"\n",
              "            style=\"display:none;\">\n",
              "\n",
              "<svg xmlns=\"http://www.w3.org/2000/svg\" height=\"24px\"viewBox=\"0 0 24 24\"\n",
              "     width=\"24px\">\n",
              "    <g>\n",
              "        <path d=\"M19 3H5c-1.1 0-2 .9-2 2v14c0 1.1.9 2 2 2h14c1.1 0 2-.9 2-2V5c0-1.1-.9-2-2-2zM9 17H7v-7h2v7zm4 0h-2V7h2v10zm4 0h-2v-4h2v4z\"/>\n",
              "    </g>\n",
              "</svg>\n",
              "  </button>\n",
              "\n",
              "<style>\n",
              "  .colab-df-quickchart {\n",
              "      --bg-color: #E8F0FE;\n",
              "      --fill-color: #1967D2;\n",
              "      --hover-bg-color: #E2EBFA;\n",
              "      --hover-fill-color: #174EA6;\n",
              "      --disabled-fill-color: #AAA;\n",
              "      --disabled-bg-color: #DDD;\n",
              "  }\n",
              "\n",
              "  [theme=dark] .colab-df-quickchart {\n",
              "      --bg-color: #3B4455;\n",
              "      --fill-color: #D2E3FC;\n",
              "      --hover-bg-color: #434B5C;\n",
              "      --hover-fill-color: #FFFFFF;\n",
              "      --disabled-bg-color: #3B4455;\n",
              "      --disabled-fill-color: #666;\n",
              "  }\n",
              "\n",
              "  .colab-df-quickchart {\n",
              "    background-color: var(--bg-color);\n",
              "    border: none;\n",
              "    border-radius: 50%;\n",
              "    cursor: pointer;\n",
              "    display: none;\n",
              "    fill: var(--fill-color);\n",
              "    height: 32px;\n",
              "    padding: 0;\n",
              "    width: 32px;\n",
              "  }\n",
              "\n",
              "  .colab-df-quickchart:hover {\n",
              "    background-color: var(--hover-bg-color);\n",
              "    box-shadow: 0 1px 2px rgba(60, 64, 67, 0.3), 0 1px 3px 1px rgba(60, 64, 67, 0.15);\n",
              "    fill: var(--button-hover-fill-color);\n",
              "  }\n",
              "\n",
              "  .colab-df-quickchart-complete:disabled,\n",
              "  .colab-df-quickchart-complete:disabled:hover {\n",
              "    background-color: var(--disabled-bg-color);\n",
              "    fill: var(--disabled-fill-color);\n",
              "    box-shadow: none;\n",
              "  }\n",
              "\n",
              "  .colab-df-spinner {\n",
              "    border: 2px solid var(--fill-color);\n",
              "    border-color: transparent;\n",
              "    border-bottom-color: var(--fill-color);\n",
              "    animation:\n",
              "      spin 1s steps(1) infinite;\n",
              "  }\n",
              "\n",
              "  @keyframes spin {\n",
              "    0% {\n",
              "      border-color: transparent;\n",
              "      border-bottom-color: var(--fill-color);\n",
              "      border-left-color: var(--fill-color);\n",
              "    }\n",
              "    20% {\n",
              "      border-color: transparent;\n",
              "      border-left-color: var(--fill-color);\n",
              "      border-top-color: var(--fill-color);\n",
              "    }\n",
              "    30% {\n",
              "      border-color: transparent;\n",
              "      border-left-color: var(--fill-color);\n",
              "      border-top-color: var(--fill-color);\n",
              "      border-right-color: var(--fill-color);\n",
              "    }\n",
              "    40% {\n",
              "      border-color: transparent;\n",
              "      border-right-color: var(--fill-color);\n",
              "      border-top-color: var(--fill-color);\n",
              "    }\n",
              "    60% {\n",
              "      border-color: transparent;\n",
              "      border-right-color: var(--fill-color);\n",
              "    }\n",
              "    80% {\n",
              "      border-color: transparent;\n",
              "      border-right-color: var(--fill-color);\n",
              "      border-bottom-color: var(--fill-color);\n",
              "    }\n",
              "    90% {\n",
              "      border-color: transparent;\n",
              "      border-bottom-color: var(--fill-color);\n",
              "    }\n",
              "  }\n",
              "</style>\n",
              "\n",
              "  <script>\n",
              "    async function quickchart(key) {\n",
              "      const quickchartButtonEl =\n",
              "        document.querySelector('#' + key + ' button');\n",
              "      quickchartButtonEl.disabled = true;  // To prevent multiple clicks.\n",
              "      quickchartButtonEl.classList.add('colab-df-spinner');\n",
              "      try {\n",
              "        const charts = await google.colab.kernel.invokeFunction(\n",
              "            'suggestCharts', [key], {});\n",
              "      } catch (error) {\n",
              "        console.error('Error during call to suggestCharts:', error);\n",
              "      }\n",
              "      quickchartButtonEl.classList.remove('colab-df-spinner');\n",
              "      quickchartButtonEl.classList.add('colab-df-quickchart-complete');\n",
              "    }\n",
              "    (() => {\n",
              "      let quickchartButtonEl =\n",
              "        document.querySelector('#df-b24a32bf-5c14-41ff-b987-85c868704d6e button');\n",
              "      quickchartButtonEl.style.display =\n",
              "        google.colab.kernel.accessAllowed ? 'block' : 'none';\n",
              "    })();\n",
              "  </script>\n",
              "</div>\n",
              "\n",
              "    </div>\n",
              "  </div>\n"
            ],
            "application/vnd.google.colaboratory.intrinsic+json": {
              "type": "dataframe",
              "variable_name": "train_df"
            }
          },
          "metadata": {},
          "execution_count": 358
        }
      ]
    },
    {
      "cell_type": "code",
      "source": [
        "# Calculate and display the percentage of missing values\n",
        "missing_percentage = (train_df.isnull().sum() / len(train_df)) * 100\n",
        "print(missing_percentage)"
      ],
      "metadata": {
        "colab": {
          "base_uri": "https://localhost:8080/"
        },
        "id": "RATVNkBeBzal",
        "outputId": "a69e185b-3724-4b60-b7d4-12c9c42c2b0f"
      },
      "execution_count": 359,
      "outputs": [
        {
          "output_type": "stream",
          "name": "stdout",
          "text": [
            "Id                0.000000\n",
            "MSSubClass        0.000000\n",
            "MSZoning          0.000000\n",
            "LotFrontage      17.739726\n",
            "LotArea           0.000000\n",
            "Street            0.000000\n",
            "Alley            93.767123\n",
            "LotShape          0.000000\n",
            "LandContour       0.000000\n",
            "Utilities         0.000000\n",
            "LotConfig         0.000000\n",
            "LandSlope         0.000000\n",
            "Neighborhood      0.000000\n",
            "Condition1        0.000000\n",
            "Condition2        0.000000\n",
            "BldgType          0.000000\n",
            "HouseStyle        0.000000\n",
            "OverallQual       0.000000\n",
            "OverallCond       0.000000\n",
            "YearBuilt         0.000000\n",
            "YearRemodAdd      0.000000\n",
            "RoofStyle         0.000000\n",
            "RoofMatl          0.000000\n",
            "Exterior1st       0.000000\n",
            "Exterior2nd       0.000000\n",
            "MasVnrType       59.726027\n",
            "MasVnrArea        0.547945\n",
            "ExterQual         0.000000\n",
            "ExterCond         0.000000\n",
            "Foundation        0.000000\n",
            "BsmtQual          2.534247\n",
            "BsmtCond          2.534247\n",
            "BsmtExposure      2.602740\n",
            "BsmtFinType1      2.534247\n",
            "BsmtFinSF1        0.000000\n",
            "BsmtFinType2      2.602740\n",
            "BsmtFinSF2        0.000000\n",
            "BsmtUnfSF         0.000000\n",
            "TotalBsmtSF       0.000000\n",
            "Heating           0.000000\n",
            "HeatingQC         0.000000\n",
            "CentralAir        0.000000\n",
            "Electrical        0.068493\n",
            "1stFlrSF          0.000000\n",
            "2ndFlrSF          0.000000\n",
            "LowQualFinSF      0.000000\n",
            "GrLivArea         0.000000\n",
            "BsmtFullBath      0.000000\n",
            "BsmtHalfBath      0.000000\n",
            "FullBath          0.000000\n",
            "HalfBath          0.000000\n",
            "BedroomAbvGr      0.000000\n",
            "KitchenAbvGr      0.000000\n",
            "KitchenQual       0.000000\n",
            "TotRmsAbvGrd      0.000000\n",
            "Functional        0.000000\n",
            "Fireplaces        0.000000\n",
            "FireplaceQu      47.260274\n",
            "GarageType        5.547945\n",
            "GarageYrBlt       5.547945\n",
            "GarageFinish      5.547945\n",
            "GarageCars        0.000000\n",
            "GarageArea        0.000000\n",
            "GarageQual        5.547945\n",
            "GarageCond        5.547945\n",
            "PavedDrive        0.000000\n",
            "WoodDeckSF        0.000000\n",
            "OpenPorchSF       0.000000\n",
            "EnclosedPorch     0.000000\n",
            "3SsnPorch         0.000000\n",
            "ScreenPorch       0.000000\n",
            "PoolArea          0.000000\n",
            "PoolQC           99.520548\n",
            "Fence            80.753425\n",
            "MiscFeature      96.301370\n",
            "MiscVal           0.000000\n",
            "MoSold            0.000000\n",
            "YrSold            0.000000\n",
            "SaleType          0.000000\n",
            "SaleCondition     0.000000\n",
            "SalePrice         0.000000\n",
            "dtype: float64\n"
          ]
        }
      ]
    },
    {
      "cell_type": "code",
      "source": [
        "# Here we can already see that some features have a lot of missing values so we will drop them\n",
        "\n",
        "train_df.drop(columns=['PoolQC', 'MiscFeature', 'Alley'], inplace=True)"
      ],
      "metadata": {
        "id": "khmOIIVHDUoT"
      },
      "execution_count": 360,
      "outputs": []
    },
    {
      "cell_type": "code",
      "source": [
        "# For LotFrontage, we use Neighborhood median to preserve location-based trends\n",
        "\n",
        "train_df['LotFrontage'] = train_df.groupby('Neighborhood')['LotFrontage'].transform(lambda x: x.fillna(x.median()))"
      ],
      "metadata": {
        "id": "94rcbCRIa6So"
      },
      "execution_count": 361,
      "outputs": []
    },
    {
      "cell_type": "code",
      "source": [
        "# For other numerical columns with a few missing values, fill with median\n",
        "\n",
        "train_df.fillna({'MasVnrArea': train_df['MasVnrArea'].median(),\n",
        "                 'GarageYrBlt': train_df['GarageYrBlt'].median()}, inplace=True)"
      ],
      "metadata": {
        "id": "Q3B1Sse8a8dF"
      },
      "execution_count": 362,
      "outputs": []
    },
    {
      "cell_type": "code",
      "source": [
        "# This code creates binary indicators (0 or 1) to track whether a property is missing a garage or basement.\n",
        "\n",
        "train_df['Missing_Garage'] = train_df['GarageType'].isnull().astype(int)\n",
        "train_df['Missing_Basement'] = train_df['BsmtQual'].isnull().astype(int)"
      ],
      "metadata": {
        "id": "D8Yy47HjmqqG"
      },
      "execution_count": 363,
      "outputs": []
    },
    {
      "cell_type": "code",
      "source": [
        "# None for missing categorical values\n",
        "\n",
        "for col in ['MasVnrType', 'BsmtQual', 'BsmtCond', 'BsmtExposure', 'BsmtFinType1',\n",
        "            'BsmtFinType2', 'FireplaceQu', 'GarageType', 'GarageFinish', 'GarageQual',\n",
        "            'GarageCond', 'Fence']:\n",
        "  train_df[col].fillna('None', inplace=True)"
      ],
      "metadata": {
        "colab": {
          "base_uri": "https://localhost:8080/"
        },
        "id": "Z73Elqcia-up",
        "outputId": "b8c3e775-a31b-4432-e74b-3ee9969c2505"
      },
      "execution_count": 364,
      "outputs": [
        {
          "output_type": "stream",
          "name": "stderr",
          "text": [
            "<ipython-input-364-cec4fc10bc09>:6: FutureWarning: A value is trying to be set on a copy of a DataFrame or Series through chained assignment using an inplace method.\n",
            "The behavior will change in pandas 3.0. This inplace method will never work because the intermediate object on which we are setting values always behaves as a copy.\n",
            "\n",
            "For example, when doing 'df[col].method(value, inplace=True)', try using 'df.method({col: value}, inplace=True)' or df[col] = df[col].method(value) instead, to perform the operation inplace on the original object.\n",
            "\n",
            "\n",
            "  train_df[col].fillna('None', inplace=True)\n"
          ]
        }
      ]
    },
    {
      "cell_type": "code",
      "source": [
        "# use the most frequently occurring value in the Electrical column.\n",
        "train_df['Electrical'].fillna(train_df['Electrical'].mode()[0], inplace=True)"
      ],
      "metadata": {
        "colab": {
          "base_uri": "https://localhost:8080/"
        },
        "id": "vgQCR8WobDu6",
        "outputId": "87d29fb3-a226-4ddb-9085-afbead34ee12"
      },
      "execution_count": 365,
      "outputs": [
        {
          "output_type": "stream",
          "name": "stderr",
          "text": [
            "<ipython-input-365-e78eb49d0b2e>:2: FutureWarning: A value is trying to be set on a copy of a DataFrame or Series through chained assignment using an inplace method.\n",
            "The behavior will change in pandas 3.0. This inplace method will never work because the intermediate object on which we are setting values always behaves as a copy.\n",
            "\n",
            "For example, when doing 'df[col].method(value, inplace=True)', try using 'df.method({col: value}, inplace=True)' or df[col] = df[col].method(value) instead, to perform the operation inplace on the original object.\n",
            "\n",
            "\n",
            "  train_df['Electrical'].fillna(train_df['Electrical'].mode()[0], inplace=True)\n"
          ]
        }
      ]
    },
    {
      "cell_type": "code",
      "source": [
        "# Calculate and display the percentage of missing values\n",
        "missing_percentage = (train_df.isnull().sum() / len(train_df)) * 100\n",
        "print(missing_percentage)"
      ],
      "metadata": {
        "colab": {
          "base_uri": "https://localhost:8080/"
        },
        "id": "KGec9mnb4DhE",
        "outputId": "4a64fdf4-0c9a-4a40-e2c9-d8bee95f9042"
      },
      "execution_count": 366,
      "outputs": [
        {
          "output_type": "stream",
          "name": "stdout",
          "text": [
            "Id                  0.0\n",
            "MSSubClass          0.0\n",
            "MSZoning            0.0\n",
            "LotFrontage         0.0\n",
            "LotArea             0.0\n",
            "Street              0.0\n",
            "LotShape            0.0\n",
            "LandContour         0.0\n",
            "Utilities           0.0\n",
            "LotConfig           0.0\n",
            "LandSlope           0.0\n",
            "Neighborhood        0.0\n",
            "Condition1          0.0\n",
            "Condition2          0.0\n",
            "BldgType            0.0\n",
            "HouseStyle          0.0\n",
            "OverallQual         0.0\n",
            "OverallCond         0.0\n",
            "YearBuilt           0.0\n",
            "YearRemodAdd        0.0\n",
            "RoofStyle           0.0\n",
            "RoofMatl            0.0\n",
            "Exterior1st         0.0\n",
            "Exterior2nd         0.0\n",
            "MasVnrType          0.0\n",
            "MasVnrArea          0.0\n",
            "ExterQual           0.0\n",
            "ExterCond           0.0\n",
            "Foundation          0.0\n",
            "BsmtQual            0.0\n",
            "BsmtCond            0.0\n",
            "BsmtExposure        0.0\n",
            "BsmtFinType1        0.0\n",
            "BsmtFinSF1          0.0\n",
            "BsmtFinType2        0.0\n",
            "BsmtFinSF2          0.0\n",
            "BsmtUnfSF           0.0\n",
            "TotalBsmtSF         0.0\n",
            "Heating             0.0\n",
            "HeatingQC           0.0\n",
            "CentralAir          0.0\n",
            "Electrical          0.0\n",
            "1stFlrSF            0.0\n",
            "2ndFlrSF            0.0\n",
            "LowQualFinSF        0.0\n",
            "GrLivArea           0.0\n",
            "BsmtFullBath        0.0\n",
            "BsmtHalfBath        0.0\n",
            "FullBath            0.0\n",
            "HalfBath            0.0\n",
            "BedroomAbvGr        0.0\n",
            "KitchenAbvGr        0.0\n",
            "KitchenQual         0.0\n",
            "TotRmsAbvGrd        0.0\n",
            "Functional          0.0\n",
            "Fireplaces          0.0\n",
            "FireplaceQu         0.0\n",
            "GarageType          0.0\n",
            "GarageYrBlt         0.0\n",
            "GarageFinish        0.0\n",
            "GarageCars          0.0\n",
            "GarageArea          0.0\n",
            "GarageQual          0.0\n",
            "GarageCond          0.0\n",
            "PavedDrive          0.0\n",
            "WoodDeckSF          0.0\n",
            "OpenPorchSF         0.0\n",
            "EnclosedPorch       0.0\n",
            "3SsnPorch           0.0\n",
            "ScreenPorch         0.0\n",
            "PoolArea            0.0\n",
            "Fence               0.0\n",
            "MiscVal             0.0\n",
            "MoSold              0.0\n",
            "YrSold              0.0\n",
            "SaleType            0.0\n",
            "SaleCondition       0.0\n",
            "SalePrice           0.0\n",
            "Missing_Garage      0.0\n",
            "Missing_Basement    0.0\n",
            "dtype: float64\n"
          ]
        }
      ]
    },
    {
      "cell_type": "markdown",
      "source": [
        "# Exploring the targer variable"
      ],
      "metadata": {
        "id": "tOpsT4gma1tL"
      }
    },
    {
      "cell_type": "code",
      "source": [
        "# Here we check the target columns which will be SalePrice to see how the values are distributed\n",
        "import matplotlib.pyplot as plt\n",
        "\n",
        "plt.hist(train_df['SalePrice'], bins=30)\n",
        "plt.xlabel('SalePrice')\n",
        "plt.ylabel('Frequency')\n",
        "plt.title('Distribution of SalePrice')\n",
        "plt.show()"
      ],
      "metadata": {
        "colab": {
          "base_uri": "https://localhost:8080/",
          "height": 472
        },
        "id": "-OKpXfZMOcOi",
        "outputId": "2266dd6a-d27f-4cc1-8ad3-4a37acb36456"
      },
      "execution_count": 367,
      "outputs": [
        {
          "output_type": "display_data",
          "data": {
            "text/plain": [
              "<Figure size 640x480 with 1 Axes>"
            ],
            "image/png": "[encoded data removed]"
          },
          "metadata": {}
        }
      ]
    },
    {
      "cell_type": "code",
      "source": [
        "# The log function compresses the range of values, which can help make a skewed distribution more normal\n",
        "import numpy as np\n",
        "\n",
        "train_df[\"SalePrice\"] = np.log1p(train_df[\"SalePrice\"])"
      ],
      "metadata": {
        "id": "BNXiV7GOQQ1g"
      },
      "execution_count": 368,
      "outputs": []
    },
    {
      "cell_type": "code",
      "source": [
        "# Plot the distrubution after applying log\n",
        "\n",
        "plt.hist(train_df['SalePrice'], bins=30)  # Adjust 'bins' for granularity\n",
        "plt.xlabel('SalePrice')\n",
        "plt.ylabel('Frequency')\n",
        "plt.title('Distribution of SalePrice')\n",
        "plt.show()"
      ],
      "metadata": {
        "colab": {
          "base_uri": "https://localhost:8080/",
          "height": 472
        },
        "id": "1CM9Z9SGQTO2",
        "outputId": "677e01d8-52ad-4546-d8ac-1081f8f10985"
      },
      "execution_count": 369,
      "outputs": [
        {
          "output_type": "display_data",
          "data": {
            "text/plain": [
              "<Figure size 640x480 with 1 Axes>"
            ],
            "image/png": "[encoded data removed]"
          },
          "metadata": {}
        }
      ]
    },
    {
      "cell_type": "markdown",
      "source": [
        "# Creating new features #"
      ],
      "metadata": {
        "id": "KijzZgtTdSYS"
      }
    },
    {
      "cell_type": "code",
      "source": [
        "# House age will be calculated based on 2 features\n",
        "\n",
        "train_df['HouseAge'] = train_df['YrSold'] - train_df['YearBuilt']"
      ],
      "metadata": {
        "id": "rBTZ9hzLFRvL"
      },
      "execution_count": 370,
      "outputs": []
    },
    {
      "cell_type": "code",
      "source": [
        "# Total size of the property calculation\n",
        "\n",
        "train_df['TotalSF'] = train_df['1stFlrSF'] + train_df['2ndFlrSF'] + train_df['TotalBsmtSF']"
      ],
      "metadata": {
        "id": "Nq3nps2EFTwW"
      },
      "execution_count": 371,
      "outputs": []
    },
    {
      "cell_type": "code",
      "source": [
        "# Check for binary columns\n",
        "\n",
        "binary_features = [col for col in train_df.columns if train_df[col].nunique() == 2]\n",
        "print(\"Binary Features:\", binary_features)"
      ],
      "metadata": {
        "colab": {
          "base_uri": "https://localhost:8080/"
        },
        "id": "kBzqF1AgGAQ2",
        "outputId": "ffab23d4-fafb-49c8-8376-5504d06c4d05"
      },
      "execution_count": 372,
      "outputs": [
        {
          "output_type": "stream",
          "name": "stdout",
          "text": [
            "Binary Features: ['Street', 'Utilities', 'CentralAir', 'Missing_Garage', 'Missing_Basement']\n"
          ]
        }
      ]
    },
    {
      "cell_type": "code",
      "source": [
        "# creating a new binary column 'HasBasement' based on whether the value in the 'TotalBsmtSF' column is greater than 0.\n",
        "\n",
        "train_df['HasBasement'] = (train_df['TotalBsmtSF'] > 0).astype(int)"
      ],
      "metadata": {
        "id": "3mfOSEm4FV8o"
      },
      "execution_count": 373,
      "outputs": []
    },
    {
      "cell_type": "code",
      "source": [
        "for col in ['Street', 'Utilities', 'CentralAir']:\n",
        "    print(f\"{col}: {train_df[col].unique()}\")"
      ],
      "metadata": {
        "colab": {
          "base_uri": "https://localhost:8080/"
        },
        "id": "THFVTwVyGNH0",
        "outputId": "f52266b1-1461-4df1-e66d-55129e74a9c9"
      },
      "execution_count": 374,
      "outputs": [
        {
          "output_type": "stream",
          "name": "stdout",
          "text": [
            "Street: ['Pave' 'Grvl']\n",
            "Utilities: ['AllPub' 'NoSeWa']\n",
            "CentralAir: ['Y' 'N']\n"
          ]
        }
      ]
    },
    {
      "cell_type": "code",
      "source": [
        "train_df['Street'] = (train_df['Street'] == 'Pave').astype(int)  # 1 if Paved, 0 if Gravel\n",
        "train_df['Utilities'] = (train_df['Utilities'] == 'AllPub').astype(int)  # 1 if All Public, 0 otherwise\n",
        "train_df['CentralAir'] = (train_df['CentralAir'] == 'Y').astype(int)  # 1 if Yes, 0 if No"
      ],
      "metadata": {
        "id": "_KRk6FwmGRuU"
      },
      "execution_count": 375,
      "outputs": []
    },
    {
      "cell_type": "code",
      "source": [
        "for col in ['Street', 'Utilities', 'CentralAir','HasBasement']:\n",
        "    print(f\"{col}: {train_df[col].unique()}\")"
      ],
      "metadata": {
        "colab": {
          "base_uri": "https://localhost:8080/"
        },
        "id": "Wk98vPmGGT_H",
        "outputId": "96cb55f0-d0f1-4826-cb21-37a8d996ed70"
      },
      "execution_count": 376,
      "outputs": [
        {
          "output_type": "stream",
          "name": "stdout",
          "text": [
            "Street: [1 0]\n",
            "Utilities: [1 0]\n",
            "CentralAir: [1 0]\n",
            "HasBasement: [1 0]\n"
          ]
        }
      ]
    },
    {
      "cell_type": "code",
      "source": [
        "import seaborn as sns\n",
        "\n",
        "# Calculate the correlation matrix\n",
        "# Select only numeric features\n",
        "numeric_df = train_df.select_dtypes(include=[\"number\"])\n",
        "\n",
        "# Compute correlation matrix\n",
        "corr_matrix = numeric_df.corr()\n",
        "\n",
        "# Plot heatmap\n",
        "plt.figure(figsize=(12, 8))\n",
        "sns.heatmap(corr_matrix, cmap=\"coolwarm\", annot=False)\n",
        "plt.title(\"Feature Correlation Heatmap\")\n",
        "plt.show()"
      ],
      "metadata": {
        "colab": {
          "base_uri": "https://localhost:8080/",
          "height": 813
        },
        "id": "aa0Xb3scR9Yi",
        "outputId": "8a8df335-3292-4120-b99a-048e81fde2a2"
      },
      "execution_count": 377,
      "outputs": [
        {
          "output_type": "display_data",
          "data": {
            "text/plain": [
              "<Figure size 1200x800 with 2 Axes>"
            ],
            "image/png": "[encoded data removed]"
          },
          "metadata": {}
        }
      ]
    },
    {
      "cell_type": "code",
      "source": [
        "# Sort correlations with SalePrice in ascending order\n",
        "corr_with_target = corr_matrix['SalePrice'].sort_values()\n",
        "\n",
        "# Filter out features with low correlation (e.g., less than 0.3 or 0.5)\n",
        "low_corr_features = corr_with_target[abs(corr_with_target) < 0.3]\n",
        "print(\"Features with low correlation to SalePrice:\")\n",
        "print(low_corr_features)"
      ],
      "metadata": {
        "colab": {
          "base_uri": "https://localhost:8080/"
        },
        "id": "oXbBEVpy9tIr",
        "outputId": "0d034a60-52fe-42f4-9744-96f69b5e05bd"
      },
      "execution_count": 378,
      "outputs": [
        {
          "output_type": "stream",
          "name": "stdout",
          "text": [
            "Features with low correlation to SalePrice:\n",
            "Missing_Basement   -0.199634\n",
            "EnclosedPorch      -0.149050\n",
            "KitchenAbvGr       -0.147548\n",
            "MSSubClass         -0.073959\n",
            "LowQualFinSF       -0.037963\n",
            "YrSold             -0.037263\n",
            "OverallCond        -0.036868\n",
            "MiscVal            -0.020021\n",
            "Id                 -0.017942\n",
            "BsmtHalfBath       -0.005149\n",
            "BsmtFinSF2          0.004832\n",
            "Utilities           0.012632\n",
            "3SsnPorch           0.054900\n",
            "MoSold              0.057330\n",
            "Street              0.057369\n",
            "PoolArea            0.069798\n",
            "ScreenPorch         0.121208\n",
            "HasBasement         0.199634\n",
            "BedroomAbvGr        0.209043\n",
            "BsmtUnfSF           0.221985\n",
            "BsmtFullBath        0.236224\n",
            "LotArea             0.257320\n",
            "Name: SalePrice, dtype: float64\n"
          ]
        }
      ]
    },
    {
      "cell_type": "code",
      "source": [
        "drop_features = ['Id', 'LowQualFinSF', 'MSSubClass', 'MiscVal']\n",
        "\n",
        "train_df.drop(columns=drop_features, inplace=True)"
      ],
      "metadata": {
        "id": "FTAc7uX0TDpC"
      },
      "execution_count": 379,
      "outputs": []
    },
    {
      "cell_type": "markdown",
      "source": [
        "# Section 2: Model Setup & Training Preparation\n",
        "\n",
        "Here, the dataset is split into features (X) and the target (y), with categorical variables one-hot encoded (dropping the first category to avoid multicollinearity) and numerical features standardized using StandardScaler.The data is further divided into training and testing sets and converted into PyTorch tensors. DataLoaders are then created to handle mini-batch training. An MLP model is defined with two hidden layers, ReLU activations, dropout for regularization, and Xavier initialization for weights. We set the Mean Squared Error (MSE) as the loss function and configure the Adam optimizer alongside a learning rate scheduler that adjusts the rate during training. The training loop iterates over epochs, performing forward and backward passes, updating weights, and printing training and validation losses."
      ],
      "metadata": {
        "id": "CgeGCVeP2RCx"
      }
    },
    {
      "cell_type": "code",
      "source": [
        "import pandas as pd\n",
        "from sklearn.model_selection import train_test_split\n",
        "from sklearn.preprocessing import StandardScaler\n",
        "import torch\n",
        "from torch.utils.data import DataLoader, TensorDataset\n",
        "\n",
        "# Split the data into features X and target y\n",
        "X = train_df.drop(columns=['SalePrice'])\n",
        "y = train_df['SalePrice']\n",
        "\n",
        "# One-hot encode categorical variables\n",
        "cat_features = X.select_dtypes(include=['object']).columns\n",
        "X = pd.get_dummies(X, columns=cat_features, drop_first=True)  # Drop first category to avoid multicollinearity\n",
        "\n",
        "# Train-Test Split (split first to prevent data leakage)\n",
        "X_train, X_test, y_train, y_test = train_test_split(X, y, test_size=0.2, random_state=42)\n",
        "\n",
        "# Feature scaling\n",
        "scaler = StandardScaler()\n",
        "num_features_to_scale = X_train.select_dtypes(include=['float64', 'int64']).columns.tolist()\n",
        "\n",
        "# Fit scaler on training data and transform train & test sets\n",
        "X_train[num_features_to_scale] = scaler.fit_transform(X_train[num_features_to_scale])\n",
        "X_test[num_features_to_scale] = scaler.transform(X_test[num_features_to_scale])\n",
        "\n",
        "# Ensure all columns are numeric (convert to float32 for PyTorch)\n",
        "X_train = X_train.astype('float32')\n",
        "X_test = X_test.astype('float32')\n",
        "\n",
        "# Prepare Data for PyTorch (convert to tensors)\n",
        "X_train_tensor = torch.tensor(X_train.values, dtype=torch.float32)\n",
        "y_train_tensor = torch.tensor(y_train.values, dtype=torch.float32)\n",
        "\n",
        "X_test_tensor = torch.tensor(X_test.values, dtype=torch.float32)\n",
        "y_test_tensor = torch.tensor(y_test.values, dtype=torch.float32)\n",
        "\n",
        "# Create DataLoader for mini-batch training\n",
        "train_data = TensorDataset(X_train_tensor, y_train_tensor)\n",
        "test_data = TensorDataset(X_test_tensor, y_test_tensor)\n",
        "\n",
        "train_loader = DataLoader(train_data, batch_size=32, shuffle=True)\n",
        "test_loader = DataLoader(test_data, batch_size=32, shuffle=False)\n",
        "\n",
        "print(\"Data preprocessing complete and ready for training.\")"
      ],
      "metadata": {
        "colab": {
          "base_uri": "https://localhost:8080/"
        },
        "id": "PeZIVUbXAIOF",
        "outputId": "7dc7d552-b67f-4851-f2c5-155572583ca9"
      },
      "execution_count": 380,
      "outputs": [
        {
          "output_type": "stream",
          "name": "stdout",
          "text": [
            "Data preprocessing complete and ready for training.\n"
          ]
        }
      ]
    },
    {
      "cell_type": "code",
      "source": [
        "import torch.nn as nn\n",
        "import torch\n",
        "\n",
        "class MLP(nn.Module):\n",
        "    def __init__(self, input_dim, hidden_dim1=64, hidden_dim2=32, dropout_rate=0.3):\n",
        "        super(MLP, self).__init__()\n",
        "        self.fc1 = nn.Linear(input_dim, hidden_dim1)\n",
        "        self.fc2 = nn.Linear(hidden_dim1, hidden_dim2)\n",
        "        self.fc3 = nn.Linear(hidden_dim2, 1)\n",
        "\n",
        "        self.relu = nn.ReLU()\n",
        "        self.identity = nn.Identity()\n",
        "        self.dropout = nn.Dropout(dropout_rate)\n",
        "\n",
        "        self._init_weights()\n",
        "\n",
        "    def _init_weights(self):\n",
        "        for m in self.modules():\n",
        "            if isinstance(m, nn.Linear):\n",
        "                nn.init.xavier_uniform_(m.weight)\n",
        "                if m.bias is not None:\n",
        "                    nn.init.zeros_(m.bias)\n",
        "\n",
        "    def forward(self, x):\n",
        "        x = self.relu(self.fc1(x))\n",
        "        x = self.dropout(x)\n",
        "        x = self.identity(self.fc2(x))\n",
        "        x = self.fc3(x)\n",
        "        return x\n",
        "\n",
        "input_dim = X_train.shape[1]\n",
        "model = MLP(input_dim=input_dim)\n",
        "print(model)"
      ],
      "metadata": {
        "colab": {
          "base_uri": "https://localhost:8080/"
        },
        "id": "HrWCxpzLCY7t",
        "outputId": "21f954d1-e85d-4f15-c562-90159df25ddf"
      },
      "execution_count": 381,
      "outputs": [
        {
          "output_type": "stream",
          "name": "stdout",
          "text": [
            "MLP(\n",
            "  (fc1): Linear(in_features=252, out_features=64, bias=True)\n",
            "  (fc2): Linear(in_features=64, out_features=32, bias=True)\n",
            "  (fc3): Linear(in_features=32, out_features=1, bias=True)\n",
            "  (relu): ReLU()\n",
            "  (identity): Identity()\n",
            "  (dropout): Dropout(p=0.3, inplace=False)\n",
            ")\n"
          ]
        }
      ]
    },
    {
      "cell_type": "code",
      "source": [
        "import torch.optim as optim\n",
        "\n",
        "# Define the loss function and optimizer\n",
        "loss_fn = nn.MSELoss()  # Mean Squared Error for regression\n",
        "optimizer = optim.Adam(model.parameters(), lr=0.034)  # Adam optimizer"
      ],
      "metadata": {
        "id": "mBdns3ufCaxk"
      },
      "execution_count": 382,
      "outputs": []
    },
    {
      "cell_type": "code",
      "source": [
        "from torch.optim.lr_scheduler import StepLR\n",
        "\n",
        "epochs = 100\n",
        "scheduler = StepLR(optimizer, step_size=30, gamma=0.1)\n",
        "\n",
        "for epoch in range(epochs):\n",
        "    model.train()\n",
        "    running_loss = 0.0\n",
        "    for batch_X, batch_y in train_loader:\n",
        "        optimizer.zero_grad()\n",
        "        y_pred = model(batch_X)\n",
        "        loss = loss_fn(y_pred.flatten(), batch_y)\n",
        "        loss.backward()\n",
        "        optimizer.step()\n",
        "        running_loss += loss.item()\n",
        "\n",
        "    scheduler.step()\n",
        "    avg_loss = running_loss / len(train_loader)\n",
        "\n",
        "    # Compute validation loss\n",
        "    model.eval()\n",
        "    val_loss = 0.0\n",
        "    with torch.no_grad():\n",
        "        for batch_X, batch_y in test_loader:\n",
        "            y_pred = model(batch_X)\n",
        "            loss = loss_fn(y_pred.flatten(), batch_y)\n",
        "            val_loss += loss.item()\n",
        "    avg_val_loss = val_loss / len(test_loader)\n",
        "\n",
        "    print(f\"Epoch [{epoch+1}/{epochs}], Train Loss: {avg_loss:.4f}, Val Loss: {avg_val_loss:.4f}\")"
      ],
      "metadata": {
        "colab": {
          "base_uri": "https://localhost:8080/"
        },
        "id": "lAE7Fe_4CceB",
        "outputId": "e93375bc-f78f-4ac6-b897-5b73990dbbde"
      },
      "execution_count": 383,
      "outputs": [
        {
          "output_type": "stream",
          "name": "stdout",
          "text": [
            "Epoch [1/100], Train Loss: 23.7988, Val Loss: 1.8521\n",
            "Epoch [2/100], Train Loss: 8.5390, Val Loss: 3.1720\n",
            "Epoch [3/100], Train Loss: 14.6914, Val Loss: 2.3224\n",
            "Epoch [4/100], Train Loss: 8.4167, Val Loss: 2.1927\n",
            "Epoch [5/100], Train Loss: 7.0933, Val Loss: 0.5511\n",
            "Epoch [6/100], Train Loss: 4.6197, Val Loss: 0.8303\n",
            "Epoch [7/100], Train Loss: 3.5526, Val Loss: 0.5177\n",
            "Epoch [8/100], Train Loss: 2.7846, Val Loss: 0.5909\n",
            "Epoch [9/100], Train Loss: 2.0395, Val Loss: 0.2254\n",
            "Epoch [10/100], Train Loss: 2.2746, Val Loss: 0.5693\n",
            "Epoch [11/100], Train Loss: 1.8401, Val Loss: 0.2207\n",
            "Epoch [12/100], Train Loss: 1.3490, Val Loss: 0.5369\n",
            "Epoch [13/100], Train Loss: 0.9809, Val Loss: 0.3624\n",
            "Epoch [14/100], Train Loss: 0.7930, Val Loss: 0.2301\n",
            "Epoch [15/100], Train Loss: 0.3533, Val Loss: 0.0619\n",
            "Epoch [16/100], Train Loss: 0.1758, Val Loss: 0.0662\n",
            "Epoch [17/100], Train Loss: 0.1206, Val Loss: 0.0350\n",
            "Epoch [18/100], Train Loss: 0.0861, Val Loss: 0.0306\n",
            "Epoch [19/100], Train Loss: 0.0639, Val Loss: 0.0646\n",
            "Epoch [20/100], Train Loss: 0.0987, Val Loss: 0.0293\n",
            "Epoch [21/100], Train Loss: 0.0499, Val Loss: 0.0431\n",
            "Epoch [22/100], Train Loss: 0.0553, Val Loss: 0.0352\n",
            "Epoch [23/100], Train Loss: 0.0526, Val Loss: 0.0307\n",
            "Epoch [24/100], Train Loss: 0.0539, Val Loss: 0.0516\n",
            "Epoch [25/100], Train Loss: 0.0584, Val Loss: 0.0428\n",
            "Epoch [26/100], Train Loss: 0.0450, Val Loss: 0.0335\n",
            "Epoch [27/100], Train Loss: 0.0546, Val Loss: 0.0330\n",
            "Epoch [28/100], Train Loss: 0.0912, Val Loss: 0.0333\n",
            "Epoch [29/100], Train Loss: 0.0421, Val Loss: 0.0331\n",
            "Epoch [30/100], Train Loss: 0.0398, Val Loss: 0.0291\n",
            "Epoch [31/100], Train Loss: 0.0334, Val Loss: 0.0282\n",
            "Epoch [32/100], Train Loss: 0.0319, Val Loss: 0.0278\n",
            "Epoch [33/100], Train Loss: 0.0329, Val Loss: 0.0274\n",
            "Epoch [34/100], Train Loss: 0.0337, Val Loss: 0.0281\n",
            "Epoch [35/100], Train Loss: 0.0320, Val Loss: 0.0272\n",
            "Epoch [36/100], Train Loss: 0.0320, Val Loss: 0.0269\n",
            "Epoch [37/100], Train Loss: 0.0320, Val Loss: 0.0274\n",
            "Epoch [38/100], Train Loss: 0.0339, Val Loss: 0.0297\n",
            "Epoch [39/100], Train Loss: 0.0342, Val Loss: 0.0280\n",
            "Epoch [40/100], Train Loss: 0.0337, Val Loss: 0.0281\n",
            "Epoch [41/100], Train Loss: 0.0358, Val Loss: 0.0276\n",
            "Epoch [42/100], Train Loss: 0.0328, Val Loss: 0.0268\n",
            "Epoch [43/100], Train Loss: 0.0306, Val Loss: 0.0279\n",
            "Epoch [44/100], Train Loss: 0.0287, Val Loss: 0.0270\n",
            "Epoch [45/100], Train Loss: 0.0348, Val Loss: 0.0277\n",
            "Epoch [46/100], Train Loss: 0.0298, Val Loss: 0.0276\n",
            "Epoch [47/100], Train Loss: 0.0345, Val Loss: 0.0276\n",
            "Epoch [48/100], Train Loss: 0.0321, Val Loss: 0.0289\n",
            "Epoch [49/100], Train Loss: 0.0335, Val Loss: 0.0270\n",
            "Epoch [50/100], Train Loss: 0.0289, Val Loss: 0.0274\n",
            "Epoch [51/100], Train Loss: 0.0315, Val Loss: 0.0283\n",
            "Epoch [52/100], Train Loss: 0.0334, Val Loss: 0.0322\n",
            "Epoch [53/100], Train Loss: 0.0355, Val Loss: 0.0281\n",
            "Epoch [54/100], Train Loss: 0.0291, Val Loss: 0.0267\n",
            "Epoch [55/100], Train Loss: 0.0349, Val Loss: 0.0277\n",
            "Epoch [56/100], Train Loss: 0.0349, Val Loss: 0.0311\n",
            "Epoch [57/100], Train Loss: 0.0315, Val Loss: 0.0281\n",
            "Epoch [58/100], Train Loss: 0.0353, Val Loss: 0.0278\n",
            "Epoch [59/100], Train Loss: 0.0345, Val Loss: 0.0280\n",
            "Epoch [60/100], Train Loss: 0.0305, Val Loss: 0.0261\n",
            "Epoch [61/100], Train Loss: 0.0310, Val Loss: 0.0263\n",
            "Epoch [62/100], Train Loss: 0.0314, Val Loss: 0.0264\n",
            "Epoch [63/100], Train Loss: 0.0304, Val Loss: 0.0264\n",
            "Epoch [64/100], Train Loss: 0.0290, Val Loss: 0.0262\n",
            "Epoch [65/100], Train Loss: 0.0300, Val Loss: 0.0264\n",
            "Epoch [66/100], Train Loss: 0.0306, Val Loss: 0.0267\n",
            "Epoch [67/100], Train Loss: 0.0280, Val Loss: 0.0263\n",
            "Epoch [68/100], Train Loss: 0.0299, Val Loss: 0.0262\n",
            "Epoch [69/100], Train Loss: 0.0310, Val Loss: 0.0266\n",
            "Epoch [70/100], Train Loss: 0.0295, Val Loss: 0.0267\n",
            "Epoch [71/100], Train Loss: 0.0311, Val Loss: 0.0268\n",
            "Epoch [72/100], Train Loss: 0.0303, Val Loss: 0.0270\n",
            "Epoch [73/100], Train Loss: 0.0296, Val Loss: 0.0268\n",
            "Epoch [74/100], Train Loss: 0.0291, Val Loss: 0.0263\n",
            "Epoch [75/100], Train Loss: 0.0281, Val Loss: 0.0261\n",
            "Epoch [76/100], Train Loss: 0.0316, Val Loss: 0.0261\n",
            "Epoch [77/100], Train Loss: 0.0333, Val Loss: 0.0267\n",
            "Epoch [78/100], Train Loss: 0.0291, Val Loss: 0.0266\n",
            "Epoch [79/100], Train Loss: 0.0290, Val Loss: 0.0265\n",
            "Epoch [80/100], Train Loss: 0.0304, Val Loss: 0.0264\n",
            "Epoch [81/100], Train Loss: 0.0313, Val Loss: 0.0273\n",
            "Epoch [82/100], Train Loss: 0.0309, Val Loss: 0.0271\n",
            "Epoch [83/100], Train Loss: 0.0304, Val Loss: 0.0270\n",
            "Epoch [84/100], Train Loss: 0.0296, Val Loss: 0.0267\n",
            "Epoch [85/100], Train Loss: 0.0305, Val Loss: 0.0264\n",
            "Epoch [86/100], Train Loss: 0.0305, Val Loss: 0.0262\n",
            "Epoch [87/100], Train Loss: 0.0295, Val Loss: 0.0271\n",
            "Epoch [88/100], Train Loss: 0.0308, Val Loss: 0.0267\n",
            "Epoch [89/100], Train Loss: 0.0323, Val Loss: 0.0269\n",
            "Epoch [90/100], Train Loss: 0.0308, Val Loss: 0.0270\n",
            "Epoch [91/100], Train Loss: 0.0280, Val Loss: 0.0269\n",
            "Epoch [92/100], Train Loss: 0.0292, Val Loss: 0.0269\n",
            "Epoch [93/100], Train Loss: 0.0291, Val Loss: 0.0268\n",
            "Epoch [94/100], Train Loss: 0.0316, Val Loss: 0.0268\n",
            "Epoch [95/100], Train Loss: 0.0324, Val Loss: 0.0268\n",
            "Epoch [96/100], Train Loss: 0.0295, Val Loss: 0.0269\n",
            "Epoch [97/100], Train Loss: 0.0309, Val Loss: 0.0268\n",
            "Epoch [98/100], Train Loss: 0.0279, Val Loss: 0.0269\n",
            "Epoch [99/100], Train Loss: 0.0304, Val Loss: 0.0267\n",
            "Epoch [100/100], Train Loss: 0.0296, Val Loss: 0.0266\n"
          ]
        }
      ]
    },
    {
      "cell_type": "code",
      "source": [
        "# Function to calculate total parameters\n",
        "def count_parameters(model):\n",
        "    total_params = sum(p.numel() for p in model.parameters())\n",
        "\n",
        "    print(f\"Total Parameters: {total_params:,}\")\n",
        "\n",
        "# Call function on the model\n",
        "count_parameters(model)"
      ],
      "metadata": {
        "colab": {
          "base_uri": "https://localhost:8080/"
        },
        "id": "wHDXoUs4_RGu",
        "outputId": "3a69fe1b-0de2-45a4-ff88-404770f22b6c"
      },
      "execution_count": 384,
      "outputs": [
        {
          "output_type": "stream",
          "name": "stdout",
          "text": [
            "Total Parameters: 18,305\n"
          ]
        }
      ]
    },
    {
      "cell_type": "markdown",
      "source": [
        "Total parameters represent all weights and biases in the model"
      ],
      "metadata": {
        "id": "R4KiBmzSAImD"
      }
    },
    {
      "cell_type": "markdown",
      "source": [
        "# Section 3: Model Evaluation & Visualization\n",
        "\n",
        "In this final section, the trained model is evaluated on the test set by switching to evaluation mode and generating predictions. The earlier log transformation of SalePrice is reversed so that both predictions and actual values are on the original scale. Evaluation metrics such as MSE and RMSE are computed to assess performance. Finally, a scatter plot is generated to visualize the relationship between the true and predicted SalePrice values, providing a visual measure of the model's effectiveness.\n",
        "\n",
        "\n",
        "\n",
        "\n",
        "\n"
      ],
      "metadata": {
        "id": "aJiSMtSP2bwN"
      }
    },
    {
      "cell_type": "code",
      "source": [
        "# Evaluation on the test set\n",
        "model.eval()  # Set the model to evaluation mode\n",
        "with torch.no_grad():\n",
        "    # Predict on the test set\n",
        "    y_test_pred = model(X_test_tensor)\n",
        "\n",
        "    # Inverse transform the predictions (apply expm1 to get back to original scale)\n",
        "    y_test_pred_original = torch.exp(y_test_pred.flatten()) - 1\n",
        "    y_test_original = torch.exp(y_test_tensor) - 1  # Inverse transform the true values\n",
        "\n",
        "    # Compute MSE and RMSE on the original scale\n",
        "    test_loss = loss_fn(y_test_pred_original, y_test_original)\n",
        "    print(f\"Test Loss (MSE) on original scale: {test_loss.item():.4f}\")\n",
        "\n",
        "    # Calculate RMSE (Root Mean Squared Error) on the original scale\n",
        "    rmse = torch.sqrt(test_loss)\n",
        "    print(f\"Test RMSE on original scale: {rmse.item():.4f}\")"
      ],
      "metadata": {
        "colab": {
          "base_uri": "https://localhost:8080/"
        },
        "id": "8rCnfYG5Ce-H",
        "outputId": "c61b6ffb-c232-4d72-8579-d85b86f5141d"
      },
      "execution_count": 385,
      "outputs": [
        {
          "output_type": "stream",
          "name": "stdout",
          "text": [
            "Test Loss (MSE) on original scale: 730651328.0000\n",
            "Test RMSE on original scale: 27030.5625\n"
          ]
        }
      ]
    },
    {
      "cell_type": "markdown",
      "source": [
        "The RMSE of 26.5k indicates that, on average, the model's predictions for house prices are off by about 28,467\n"
      ],
      "metadata": {
        "id": "tGRaaLDs2rnt"
      }
    },
    {
      "cell_type": "code",
      "source": [
        "import matplotlib.pyplot as plt\n",
        "\n",
        "# Plot the true vs predicted values\n",
        "plt.scatter(y_test_original, y_test_pred_original)\n",
        "plt.plot([0, max(y_test_original)], [0, max(y_test_original)], 'r--')\n",
        "plt.xlabel('True SalePrice')\n",
        "plt.ylabel('Predicted SalePrice')\n",
        "plt.title('True vs Predicted SalePrice')\n",
        "plt.show()"
      ],
      "metadata": {
        "colab": {
          "base_uri": "https://localhost:8080/",
          "height": 472
        },
        "id": "HT-xGMHcC65K",
        "outputId": "f5b66dc6-69db-4763-e7b3-1e07e3262f1c"
      },
      "execution_count": 386,
      "outputs": [
        {
          "output_type": "display_data",
          "data": {
            "text/plain": [
              "<Figure size 640x480 with 1 Axes>"
            ],
            "image/png": "[encoded data removed]"
          },
          "metadata": {}
        }
      ]
    }
  ]
}